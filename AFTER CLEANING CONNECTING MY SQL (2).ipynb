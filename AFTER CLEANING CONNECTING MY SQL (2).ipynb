{
 "cells": [
  {
   "cell_type": "markdown",
   "id": "196c8e93",
   "metadata": {},
   "source": [
    "## Install the MySQL Connector"
   ]
  },
  {
   "cell_type": "code",
   "execution_count": 1,
   "id": "5fa0ad95",
   "metadata": {},
   "outputs": [
    {
     "name": "stdout",
     "output_type": "stream",
     "text": [
      "Requirement already satisfied: mysql-connector-python in c:\\users\\lakshmi kanth\\.ipython\\lib\\site-packages (8.2.0)\n",
      "Requirement already satisfied: protobuf<=4.21.12,>=4.21.1 in c:\\users\\lakshmi kanth\\.ipython\\lib\\site-packages (from mysql-connector-python) (4.21.12)\n",
      "Note: you may need to restart the kernel to use updated packages.\n"
     ]
    }
   ],
   "source": [
    "pip install mysql-connector-python"
   ]
  },
  {
   "cell_type": "code",
   "execution_count": 5,
   "id": "b51ef924",
   "metadata": {},
   "outputs": [
    {
     "name": "stdout",
     "output_type": "stream",
     "text": [
      "Collecting mysqlclient\n",
      "  Obtaining dependency information for mysqlclient from https://files.pythonhosted.org/packages/92/5d/a26d4d3a19d12df4a742e93364ae3ff6a5b75678add3c0ef769d32023a5e/mysqlclient-2.2.1-cp311-cp311-win_amd64.whl.metadata\n",
      "  Downloading mysqlclient-2.2.1-cp311-cp311-win_amd64.whl.metadata (4.6 kB)\n",
      "Downloading mysqlclient-2.2.1-cp311-cp311-win_amd64.whl (202 kB)\n",
      "   ---------------------------------------- 0.0/202.8 kB ? eta -:--:--\n",
      "   -- ------------------------------------- 10.2/202.8 kB ? eta -:--:--\n",
      "   ------- ------------------------------- 41.0/202.8 kB 487.6 kB/s eta 0:00:01\n",
      "   ----------------- --------------------- 92.2/202.8 kB 871.5 kB/s eta 0:00:01\n",
      "   -------------------------------- ------- 163.8/202.8 kB 1.1 MB/s eta 0:00:01\n",
      "   ---------------------------------------- 202.8/202.8 kB 1.0 MB/s eta 0:00:00\n",
      "Installing collected packages: mysqlclient\n",
      "Successfully installed mysqlclient-2.2.1\n",
      "Note: you may need to restart the kernel to use updated packages.\n"
     ]
    }
   ],
   "source": [
    "pip install mysqlclient"
   ]
  },
  {
   "cell_type": "markdown",
   "id": "3d1d2e0e",
   "metadata": {},
   "source": [
    "# Import the library"
   ]
  },
  {
   "cell_type": "code",
   "execution_count": 20,
   "id": "db1467f9",
   "metadata": {},
   "outputs": [],
   "source": [
    "import pandas as pd\n",
    "import numpy as np\n",
    "import mysql.connector"
   ]
  },
  {
   "cell_type": "code",
   "execution_count": 22,
   "id": "79800ef1",
   "metadata": {},
   "outputs": [
    {
     "data": {
      "text/plain": [
       "(3568, 28)"
      ]
     },
     "execution_count": 22,
     "metadata": {},
     "output_type": "execute_result"
    }
   ],
   "source": [
    "df=pd.read_excel(\"C:/Users/Lakshmi kanth/Desktop/foot_ball/football_data_KL.xlsx\")\n",
    "df.shape"
   ]
  },
  {
   "cell_type": "code",
   "execution_count": 4,
   "id": "ba3bec48",
   "metadata": {},
   "outputs": [],
   "source": [
    "#df1=pd.read_csv(\"C:/Users/Lakshmi kanth/Desktop/foot_ball/duplicates/football_data.csv\")"
   ]
  },
  {
   "cell_type": "markdown",
   "id": "931c56f8",
   "metadata": {},
   "source": [
    "# Establish the connection"
   ]
  },
  {
   "cell_type": "code",
   "execution_count": 24,
   "id": "9c4145be",
   "metadata": {},
   "outputs": [
    {
     "name": "stderr",
     "output_type": "stream",
     "text": [
      "C:\\Users\\Lakshmi kanth\\AppData\\Local\\Temp\\ipykernel_4372\\3746395467.py:13: UserWarning: The provided table name 'football_data_KL' is not found exactly as such in the database after writing the table, possibly due to case sensitivity issues. Consider using lower case table names.\n",
      "  df.to_sql(\"football_data_KL\",con=engine, index=False, if_exists=\"replace\")\n"
     ]
    }
   ],
   "source": [
    "import pandas as pd\n",
    "from sqlalchemy import create_engine\n",
    "\n",
    "database_credentials = {\n",
    "    'username': 'root',\n",
    "    'password': '1234lucky',\n",
    "    'host': 'localhost',\n",
    "    'database': 'football_games_db',}\n",
    "# Connect to MySQL database using SQLAlchemy\n",
    "engine = create_engine(f\"mysql+pymysql://{database_credentials['username']}:{database_credentials['password']}@{database_credentials['host']}/{database_credentials['database']}\")\n",
    "\n",
    "# Insert the games into a new table \n",
    "df.to_sql(\"football_data_KL\",con=engine, index=False, if_exists=\"replace\")\n",
    "\n",
    "# Close the database connection\n",
    "engine.dispose()"
   ]
  },
  {
   "cell_type": "markdown",
   "id": "43641346",
   "metadata": {},
   "source": [
    "# END"
   ]
  }
 ],
 "metadata": {
  "kernelspec": {
   "display_name": "Python 3 (ipykernel)",
   "language": "python",
   "name": "python3"
  },
  "language_info": {
   "codemirror_mode": {
    "name": "ipython",
    "version": 3
   },
   "file_extension": ".py",
   "mimetype": "text/x-python",
   "name": "python",
   "nbconvert_exporter": "python",
   "pygments_lexer": "ipython3",
   "version": "3.11.5"
  }
 },
 "nbformat": 4,
 "nbformat_minor": 5
}
